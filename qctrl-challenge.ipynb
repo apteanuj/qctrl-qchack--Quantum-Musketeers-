{
 "cells": [
  {
   "cell_type": "code",
   "execution_count": 1,
   "metadata": {
    "scrolled": false
   },
   "outputs": [
    {
     "data": {
      "application/vnd.jupyter.widget-view+json": {
       "model_id": "",
       "version_major": 2,
       "version_minor": 0
      },
      "text/plain": [
       "  0%|          | 0/100 [00:00<?, ?it/s]"
      ]
     },
     "metadata": {},
     "output_type": "display_data"
    },
    {
     "name": "stdout",
     "output_type": "stream",
     "text": [
      "Your task calculate_qchack_measurements has started.\n",
      "Your task calculate_qchack_measurements has completed in 8s.\n",
      "[0.88022724 1.09123783 0.63592452 0.36276714 0.78460181 0.98488578\n",
      " 0.56603887 0.38       1.06451867 0.94042544 0.67911707 0.39849718\n",
      " 0.78409183 0.58549125 0.36055513 0.60827625 1.09123783 0.85440037\n",
      " 0.54147945 0.63150614 0.82873397 0.56320511 0.52038447 0.88022724\n",
      " 1.06451867 0.93230896 0.56320511 0.36055513 0.42755117 0.35608988\n",
      " 0.44407207 0.65513357 0.85440037 1.01133575 1.11803399 1.06451867\n",
      " 1.09123783 1.11803399 1.09123783 1.06451867 1.01133575 1.11803399\n",
      " 0.98488578 0.56320511 0.42755117 0.3671512  0.41231056 0.36055513\n",
      " 0.44407207 0.98488578 1.09123783 0.88022724 0.44407207 0.56320511\n",
      " 0.52038447 0.67911707 0.38626416 1.01133575 1.03788246 0.70342022\n",
      " 0.36055513 0.73402997 0.88022724 0.36823905 0.56320511 1.01133575\n",
      " 1.06451867 0.54369109 0.50318983 0.88022724 0.78460181 0.35608988\n",
      " 0.67911707 1.07349895 0.82873397]\n"
     ]
    },
    {
     "data": {
      "application/vnd.jupyter.widget-view+json": {
       "model_id": "",
       "version_major": 2,
       "version_minor": 0
      },
      "text/plain": [
       "  0%|          | 0/100 [00:00<?, ?it/s]"
      ]
     },
     "metadata": {},
     "output_type": "display_data"
    },
    {
     "name": "stdout",
     "output_type": "stream",
     "text": [
      "Your task calculate_qchack_measurements has started.\n",
      "Your task calculate_qchack_measurements has completed in 9s.\n",
      "Best infidelity after 0 BOULDER OPAL optimization steps: 0.33045423283716613\n"
     ]
    },
    {
     "data": {
      "application/vnd.jupyter.widget-view+json": {
       "model_id": "",
       "version_major": 2,
       "version_minor": 0
      },
      "text/plain": [
       "  0%|          | 0/100 [00:00<?, ?it/s]"
      ]
     },
     "metadata": {},
     "output_type": "display_data"
    },
    {
     "name": "stdout",
     "output_type": "stream",
     "text": [
      "Your task calculate_closed_loop_optimization_step has started.\n",
      "Your task calculate_closed_loop_optimization_step has completed in 19s.\n"
     ]
    },
    {
     "data": {
      "application/vnd.jupyter.widget-view+json": {
       "model_id": "",
       "version_major": 2,
       "version_minor": 0
      },
      "text/plain": [
       "  0%|          | 0/100 [00:00<?, ?it/s]"
      ]
     },
     "metadata": {},
     "output_type": "display_data"
    },
    {
     "name": "stdout",
     "output_type": "stream",
     "text": [
      "Your task calculate_qchack_measurements is currently in a queue waiting to be processed.\n",
      "Your task calculate_qchack_measurements has started.\n",
      "Your task calculate_qchack_measurements has completed in 11s.\n",
      "Best infidelity after 1 BOULDER OPAL optimization step: 0.33045423283716613\n"
     ]
    },
    {
     "data": {
      "application/vnd.jupyter.widget-view+json": {
       "model_id": "",
       "version_major": 2,
       "version_minor": 0
      },
      "text/plain": [
       "  0%|          | 0/100 [00:00<?, ?it/s]"
      ]
     },
     "metadata": {},
     "output_type": "display_data"
    },
    {
     "name": "stdout",
     "output_type": "stream",
     "text": [
      "Your task calculate_closed_loop_optimization_step has started.\n",
      "Your task calculate_closed_loop_optimization_step has completed in 19s.\n"
     ]
    },
    {
     "data": {
      "application/vnd.jupyter.widget-view+json": {
       "model_id": "",
       "version_major": 2,
       "version_minor": 0
      },
      "text/plain": [
       "  0%|          | 0/100 [00:00<?, ?it/s]"
      ]
     },
     "metadata": {},
     "output_type": "display_data"
    },
    {
     "name": "stdout",
     "output_type": "stream",
     "text": [
      "Your task calculate_qchack_measurements has completed in 7s.\n",
      "Best infidelity after 2 BOULDER OPAL optimization steps: 0.3168595903550972\n"
     ]
    },
    {
     "data": {
      "application/vnd.jupyter.widget-view+json": {
       "model_id": "",
       "version_major": 2,
       "version_minor": 0
      },
      "text/plain": [
       "  0%|          | 0/100 [00:00<?, ?it/s]"
      ]
     },
     "metadata": {},
     "output_type": "display_data"
    },
    {
     "name": "stdout",
     "output_type": "stream",
     "text": [
      "Your task calculate_closed_loop_optimization_step has started.\n",
      "Your task calculate_closed_loop_optimization_step has completed in 36s.\n"
     ]
    },
    {
     "data": {
      "application/vnd.jupyter.widget-view+json": {
       "model_id": "",
       "version_major": 2,
       "version_minor": 0
      },
      "text/plain": [
       "  0%|          | 0/100 [00:00<?, ?it/s]"
      ]
     },
     "metadata": {},
     "output_type": "display_data"
    },
    {
     "name": "stdout",
     "output_type": "stream",
     "text": [
      "Your task calculate_qchack_measurements has completed in 4s.\n",
      "Best infidelity after 3 BOULDER OPAL optimization steps: 0.3168595903550972\n"
     ]
    },
    {
     "data": {
      "application/vnd.jupyter.widget-view+json": {
       "model_id": "",
       "version_major": 2,
       "version_minor": 0
      },
      "text/plain": [
       "  0%|          | 0/100 [00:00<?, ?it/s]"
      ]
     },
     "metadata": {},
     "output_type": "display_data"
    },
    {
     "name": "stdout",
     "output_type": "stream",
     "text": [
      "Your task calculate_closed_loop_optimization_step has started.\n",
      "Your task calculate_closed_loop_optimization_step has completed in 49s.\n"
     ]
    },
    {
     "data": {
      "application/vnd.jupyter.widget-view+json": {
       "model_id": "",
       "version_major": 2,
       "version_minor": 0
      },
      "text/plain": [
       "  0%|          | 0/100 [00:00<?, ?it/s]"
      ]
     },
     "metadata": {},
     "output_type": "display_data"
    },
    {
     "name": "stdout",
     "output_type": "stream",
     "text": [
      "Your task calculate_qchack_measurements has started.\n",
      "Your task calculate_qchack_measurements has completed in 7s.\n",
      "Best infidelity after 4 BOULDER OPAL optimization steps: 0.3013303834663873\n"
     ]
    },
    {
     "data": {
      "application/vnd.jupyter.widget-view+json": {
       "model_id": "",
       "version_major": 2,
       "version_minor": 0
      },
      "text/plain": [
       "  0%|          | 0/100 [00:00<?, ?it/s]"
      ]
     },
     "metadata": {},
     "output_type": "display_data"
    },
    {
     "name": "stdout",
     "output_type": "stream",
     "text": [
      "Your task calculate_closed_loop_optimization_step has started.\n",
      "Your task calculate_closed_loop_optimization_step has completed in 60s.\n"
     ]
    },
    {
     "data": {
      "application/vnd.jupyter.widget-view+json": {
       "model_id": "",
       "version_major": 2,
       "version_minor": 0
      },
      "text/plain": [
       "  0%|          | 0/100 [00:00<?, ?it/s]"
      ]
     },
     "metadata": {},
     "output_type": "display_data"
    },
    {
     "name": "stdout",
     "output_type": "stream",
     "text": [
      "Your task calculate_qchack_measurements has started.\n",
      "Your task calculate_qchack_measurements has completed in 8s.\n",
      "Infidelity: 0.3013303834663873\n"
     ]
    },
    {
     "data": {
      "image/png": "[encoded data removed]",
      "text/plain": [
       "<Figure size 504x144 with 1 Axes>"
      ]
     },
     "metadata": {
      "needs_background": "light"
     },
     "output_type": "display_data"
    }
   ],
   "source": [
    "#!/usr/bin/env python\n",
    "# coding: utf-8\n",
    "\n",
    "# In[4]:\n",
    "\n",
    "\n",
    "### this cell deals with initialization ########\n",
    "\n",
    "import matplotlib.pyplot as plt\n",
    "import numpy as np\n",
    "from qctrlvisualizer import get_qctrl_style, plot_controls\n",
    "\n",
    "from qctrl import Qctrl\n",
    "\n",
    "import json\n",
    "from io import StringIO\n",
    "\n",
    "\n",
    "plt.style.use(get_qctrl_style())\n",
    "\n",
    "# Start a session with the API.\n",
    "qctrl = Qctrl(email='apteanuj@uchicago.edu', password='nsWvXh4mFCj68x2')\n",
    "\n",
    "\n",
    "# Define standard deviation of the errors in the experimental results.\n",
    "sigma = 0.01\n",
    "\n",
    "\n",
    "segment_count = 100\n",
    "# duration in nanoseconds\n",
    "duration = 100 # ns\n",
    "# no. of shots in each round\n",
    "shot_count= 50\n",
    "\n",
    "# Define the number of test points obtained per run.\n",
    "test_point_count = 75\n",
    "\n",
    "###############\n",
    "\n",
    "def costfun(controls):\n",
    "    experiment_results = qctrl.functions.calculate_qchack_measurements(\n",
    "        controls=controls,\n",
    "        shot_count=test_point_count,)\n",
    "    measurements = experiment_results.measurements     ### actual measurements occur here\n",
    "    ### let us obtain an array of probabilities for each test_point ###\n",
    "    cost=np.zeros(test_point_count)\n",
    "    for j in range(test_point_count):\n",
    "        #### probabilities are calculated here\n",
    "        p0 = measurements[j].count(0) / shot_count\n",
    "        p1 = measurements[j].count(1) / shot_count\n",
    "        p2 = measurements[j].count(2) / shot_count\n",
    "        ##cost[j]=cost[j]+np.sqrt(p0**2+(1-p1)**2+p2**2)\n",
    "        cost[j]=cost[j]+np.sqrt((0.5-p0)**2+(0.5-p1)**2+p2**2)  \n",
    "    return(cost)\n",
    "\n",
    "\n",
    "\n",
    "# In[22]:\n",
    "\n",
    "\n",
    "parameter_set = (\n",
    "        1.0\n",
    "        * (np.linspace(-1, 1, test_point_count)[:, None])\n",
    "        * np.ones((test_point_count, segment_count))\n",
    ")\n",
    "\n",
    "\n",
    "####### we are trying to get a test_point_count worth of controls from a parameter_set  ###\n",
    "\n",
    "def controlsfn(param_set):\n",
    "    controls = []\n",
    "    for k in range(test_point_count):\n",
    "        # Create a random string of complex numbers for each controls.\n",
    "        values = param_set[k]\n",
    "        controls.append({\"duration\": duration, \"values\": (1+1j)*values/np.sqrt(2)})\n",
    "    return(controls)\n",
    "\n",
    "def costfn(param_set):\n",
    "    controlset=controlsfn(param_set=param_set)\n",
    "    return(costfun(controlset))\n",
    "\n",
    "print(costfn(parameter_set))\n",
    "\n",
    "\n",
    "# In[23]:\n",
    "\n",
    "\n",
    "\n",
    "# Define standard deviation of the errors in the experimental results.\n",
    "sigma = 0.01\n",
    "# Obtain the cost of initial experimental results.\n",
    "exp_results = costfn(parameter_set)\n",
    "\n",
    "\n",
    "length_scale_bound = qctrl.types.closed_loop_optimization_step.BoxConstraint(\n",
    "    lower_bound=1e-5,\n",
    "    upper_bound=1e5,\n",
    ")\n",
    "bound = qctrl.types.closed_loop_optimization_step.BoxConstraint(\n",
    "    lower_bound=-1,\n",
    "    upper_bound=1,\n",
    ")\n",
    "initializer = qctrl.types.closed_loop_optimization_step.GaussianProcessInitializer(\n",
    "    length_scale_bounds=[length_scale_bound] * segment_count,\n",
    "    bounds=[bound] * segment_count,\n",
    "    rng_seed=0,\n",
    ")\n",
    "\n",
    "# Define state object for the closed-loop optimization.\n",
    "optimizer = qctrl.types.closed_loop_optimization_step.Optimizer(\n",
    "    gaussian_process_initializer=initializer,\n",
    ")\n",
    "\n",
    "\n",
    "best_cost, best_controls = min(\n",
    "    zip(exp_results, parameter_set), key=lambda params: params[0]\n",
    ")\n",
    "optimization_count = 0\n",
    "\n",
    "# Run the optimization loop until the cost (infidelity) is sufficiently small.\n",
    "while optimization_count < 5:\n",
    "    # Print the current best cost.\n",
    "    optimization_steps = (\n",
    "        \"optimization step\" if optimization_count == 1 else \"optimization steps\"\n",
    "    )\n",
    "    print(\n",
    "        f\"Best infidelity after {optimization_count} BOULDER OPAL {optimization_steps}: {best_cost}\"\n",
    "    )\n",
    "\n",
    "    # Organize the experiment results into the proper input format.\n",
    "    results = [\n",
    "        qctrl.types.closed_loop_optimization_step.CostFunctionResult(\n",
    "            parameters=list(parameters),\n",
    "            cost=cost,\n",
    "            cost_uncertainty=sigma,\n",
    "        )\n",
    "        for parameters, cost in zip(parameter_set, exp_results)\n",
    "    ]\n",
    "\n",
    "    # Call the automated closed-loop optimizer and obtain the next set of test points.\n",
    "    optimization_result = qctrl.functions.calculate_closed_loop_optimization_step(\n",
    "        optimizer=optimizer,\n",
    "        results=results,\n",
    "        test_point_count=test_point_count,\n",
    "    )\n",
    "    optimization_count += 1\n",
    "\n",
    "    # Organize the data returned by the automated closed-loop optimizer.\n",
    "    parameter_set = np.array(\n",
    "        [test_point.parameters for test_point in optimization_result.test_points]\n",
    "    )\n",
    "    optimizer = qctrl.types.closed_loop_optimization_step.Optimizer(\n",
    "        state=optimization_result.state\n",
    "    )\n",
    "\n",
    "    # Obtain experiment results that the automated closed-loop optimizer requested.\n",
    "    experiment_results = costfn(parameter_set)\n",
    "\n",
    "    # Record the best results after this round of experiments.\n",
    "    cost, controls = min(\n",
    "        zip(experiment_results, parameter_set), key=lambda params: params[0]\n",
    "    )\n",
    "    if cost < best_cost:\n",
    "        best_cost = cost\n",
    "        best_controls = controls\n",
    "\n",
    "# Print final best cost.\n",
    "print(f\"Infidelity: {best_cost}\")\n",
    "\n",
    "\n",
    "# Plot controls that correspond to the best cost.\n",
    "plot_controls(\n",
    "    figure=plt.figure(),\n",
    "    controls={\n",
    "        r\"$\\Omega(t)$\": [\n",
    "            {\"duration\": duration*10**(-9)/ len(best_controls), \"value\": value}\n",
    "            for value in best_controls\n",
    "        ]\n",
    "    },\n",
    ")\n",
    "\n",
    "\n"
   ]
  },
  {
   "cell_type": "code",
   "execution_count": 2,
   "metadata": {},
   "outputs": [
    {
     "name": "stdout",
     "output_type": "stream",
     "text": [
      "[{'duration': 1.0, 'value': (-0.5402004596437417-0.5402004596437417j)}, {'duration': 1.0, 'value': (-0.061185422507887034-0.061185422507887034j)}, {'duration': 1.0, 'value': (0.22757052289313937+0.22757052289313937j)}, {'duration': 1.0, 'value': (0.3308205768031779+0.3308205768031779j)}, {'duration': 1.0, 'value': (-0.2828757856063637-0.2828757856063637j)}, {'duration': 1.0, 'value': (0.53202263693222+0.53202263693222j)}, {'duration': 1.0, 'value': (-0.47338308356801034-0.47338308356801034j)}, {'duration': 1.0, 'value': (-0.29159448459324155-0.29159448459324155j)}, {'duration': 1.0, 'value': (-0.6573367778409425-0.6573367778409425j)}, {'duration': 1.0, 'value': (0.6699951593442028+0.6699951593442028j)}, {'duration': 1.0, 'value': (-0.27250476079029984-0.27250476079029984j)}, {'duration': 1.0, 'value': (-0.06752159498908882-0.06752159498908882j)}, {'duration': 1.0, 'value': (0.46383300683184864+0.46383300683184864j)}, {'duration': 1.0, 'value': (-0.2989934080467897-0.2989934080467897j)}, {'duration': 1.0, 'value': (-0.4728313216880634-0.4728313216880634j)}, {'duration': 1.0, 'value': (0.2964981447661502+0.2964981447661502j)}, {'duration': 1.0, 'value': (-0.21413620776080178-0.21413620776080178j)}, {'duration': 1.0, 'value': (0.2191223340331429+0.2191223340331429j)}, {'duration': 1.0, 'value': (0.2674219833635849+0.2674219833635849j)}, {'duration': 1.0, 'value': (0.5883312684447122+0.5883312684447122j)}, {'duration': 1.0, 'value': (0.36314475760673043+0.36314475760673043j)}, {'duration': 1.0, 'value': (-0.02203269736145309-0.02203269736145309j)}, {'duration': 1.0, 'value': (0.3142998772400983+0.3142998772400983j)}, {'duration': 1.0, 'value': (-0.17578450148214536-0.17578450148214536j)}, {'duration': 1.0, 'value': (-0.5030379071093718-0.5030379071093718j)}, {'duration': 1.0, 'value': (-0.07194298671121212-0.07194298671121212j)}, {'duration': 1.0, 'value': (-0.6357762940207864-0.6357762940207864j)}, {'duration': 1.0, 'value': (-0.5991083801873052-0.5991083801873052j)}, {'duration': 1.0, 'value': (-0.6315285968313024-0.6315285968313024j)}, {'duration': 1.0, 'value': (-0.2545994117598389-0.2545994117598389j)}, {'duration': 1.0, 'value': (-0.43684418929908125-0.43684418929908125j)}, {'duration': 1.0, 'value': (-0.5131031050683158-0.5131031050683158j)}, {'duration': 1.0, 'value': (-0.6054485307501335-0.6054485307501335j)}, {'duration': 1.0, 'value': (0.5512116337449335+0.5512116337449335j)}, {'duration': 1.0, 'value': (-0.5590069040468281-0.5590069040468281j)}, {'duration': 1.0, 'value': (-0.2621054082009432-0.2621054082009432j)}, {'duration': 1.0, 'value': (-0.3754831251556059-0.3754831251556059j)}, {'duration': 1.0, 'value': (0.03241119064152398+0.03241119064152398j)}, {'duration': 1.0, 'value': (-0.4126748366025884-0.4126748366025884j)}, {'duration': 1.0, 'value': (0.019317831791604154+0.019317831791604154j)}, {'duration': 1.0, 'value': (-0.3222754311584648-0.3222754311584648j)}, {'duration': 1.0, 'value': (-0.6709076927879161-0.6709076927879161j)}, {'duration': 1.0, 'value': (-0.21327955510790184-0.21327955510790184j)}, {'duration': 1.0, 'value': (0.3395685874949205+0.3395685874949205j)}, {'duration': 1.0, 'value': (-0.25034337191912126-0.25034337191912126j)}, {'duration': 1.0, 'value': (0.30054715346902333+0.30054715346902333j)}, {'duration': 1.0, 'value': (-0.69088722768369-0.69088722768369j)}, {'duration': 1.0, 'value': (0.2611468771932534+0.2611468771932534j)}, {'duration': 1.0, 'value': (-0.4627354242705149-0.4627354242705149j)}, {'duration': 1.0, 'value': (-0.3292311225101765-0.3292311225101765j)}, {'duration': 1.0, 'value': (0.6058212603091968+0.6058212603091968j)}, {'duration': 1.0, 'value': (0.04680130238635048+0.04680130238635048j)}, {'duration': 1.0, 'value': (-0.6448119848167861-0.6448119848167861j)}, {'duration': 1.0, 'value': (0.42165183557206093+0.42165183557206093j)}, {'duration': 1.0, 'value': (0.648410466017821+0.648410466017821j)}, {'duration': 1.0, 'value': (-0.18448266214451414-0.18448266214451414j)}, {'duration': 1.0, 'value': (-0.5716291273551232-0.5716291273551232j)}, {'duration': 1.0, 'value': (0.18113596450610892+0.18113596450610892j)}, {'duration': 1.0, 'value': (0.3524306858750157+0.3524306858750157j)}, {'duration': 1.0, 'value': (0.5910836796751839+0.5910836796751839j)}, {'duration': 1.0, 'value': (-0.33328423988502476-0.33328423988502476j)}, {'duration': 1.0, 'value': (-0.5411655715142445-0.5411655715142445j)}, {'duration': 1.0, 'value': (-0.26262254403078333-0.26262254403078333j)}, {'duration': 1.0, 'value': (0.5141295435284172+0.5141295435284172j)}, {'duration': 1.0, 'value': (-0.14985837783682524-0.14985837783682524j)}, {'duration': 1.0, 'value': (0.7005861358245387+0.7005861358245387j)}, {'duration': 1.0, 'value': (-0.005324313916228441-0.005324313916228441j)}, {'duration': 1.0, 'value': (-0.4497278506848993-0.4497278506848993j)}, {'duration': 1.0, 'value': (0.2761056416789369+0.2761056416789369j)}, {'duration': 1.0, 'value': (-0.6701810474987246-0.6701810474987246j)}, {'duration': 1.0, 'value': (0.05056564377031607+0.05056564377031607j)}, {'duration': 1.0, 'value': (0.44036248404202666+0.44036248404202666j)}, {'duration': 1.0, 'value': (-0.44284077896935287-0.44284077896935287j)}, {'duration': 1.0, 'value': (-0.677011630444957-0.677011630444957j)}, {'duration': 1.0, 'value': (-0.11418249499823604-0.11418249499823604j)}, {'duration': 1.0, 'value': (-0.4685043967668421-0.4685043967668421j)}, {'duration': 1.0, 'value': (0.5461081856925971+0.5461081856925971j)}, {'duration': 1.0, 'value': (0.6194194017997031+0.6194194017997031j)}, {'duration': 1.0, 'value': (-0.3491557773732214-0.3491557773732214j)}, {'duration': 1.0, 'value': (0.009848324409191103+0.009848324409191103j)}, {'duration': 1.0, 'value': (0.06600375677688881+0.06600375677688881j)}, {'duration': 1.0, 'value': (0.575027785113195+0.575027785113195j)}, {'duration': 1.0, 'value': (0.5215142874371458+0.5215142874371458j)}, {'duration': 1.0, 'value': (-0.3632115285528348-0.3632115285528348j)}, {'duration': 1.0, 'value': (-0.681337225223049-0.681337225223049j)}, {'duration': 1.0, 'value': (-0.3311095754739866-0.3311095754739866j)}, {'duration': 1.0, 'value': (-0.31016786341322655-0.31016786341322655j)}, {'duration': 1.0, 'value': (-0.44028363680820704-0.44028363680820704j)}, {'duration': 1.0, 'value': (0.012532170433580198+0.012532170433580198j)}, {'duration': 1.0, 'value': (0.017520603097596465+0.017520603097596465j)}, {'duration': 1.0, 'value': (-0.0185376691618013-0.0185376691618013j)}, {'duration': 1.0, 'value': (0.16636407109386211+0.16636407109386211j)}, {'duration': 1.0, 'value': (0.27114667313993734+0.27114667313993734j)}, {'duration': 1.0, 'value': (-0.498110029002691-0.498110029002691j)}, {'duration': 1.0, 'value': (-0.30607426633948437-0.30607426633948437j)}, {'duration': 1.0, 'value': (-0.01834729592111943-0.01834729592111943j)}, {'duration': 1.0, 'value': (0.6607907183384212+0.6607907183384212j)}, {'duration': 1.0, 'value': (-0.24955906941992942-0.24955906941992942j)}, {'duration': 1.0, 'value': (0.6532266412438484+0.6532266412438484j)}, {'duration': 1.0, 'value': (-0.3799452690231914-0.3799452690231914j)}]\n"
     ]
    },
    {
     "data": {
      "application/vnd.jupyter.widget-view+json": {
       "model_id": "",
       "version_major": 2,
       "version_minor": 0
      },
      "text/plain": [
       "  0%|          | 0/100 [00:00<?, ?it/s]"
      ]
     },
     "metadata": {},
     "output_type": "display_data"
    },
    {
     "name": "stdout",
     "output_type": "stream",
     "text": [
      "Your task calculate_qchack_measurements has completed in 6s.\n",
      "[[1, 0, 1, 1, 1, 0, 1, 0, 0, 1, 1, 1, 0, 1, 0, 0, 0, 1, 0, 0, 1, 1, 1, 0, 1, 1, 0, 1, 0, 0, 1, 0, 1, 1, 0, 0, 1, 0, 0, 0, 1, 1, 1, 0, 0, 0, 0, 1, 0, 0, 0, 0, 1, 1, 0, 1, 0, 1, 0, 0, 1, 0, 0, 1, 1, 1, 1, 1, 1, 1, 1, 1, 0, 1, 1, 1, 0, 0, 0, 0, 1, 0, 0, 0, 1, 1, 0, 0, 1, 0, 2, 0, 1, 0, 0, 0, 0, 1, 0, 1]]\n",
      "P(|0>) = 0.51, P(|1>) = 0.48, P(|2>) = 0.01\n"
     ]
    }
   ],
   "source": [
    "finalcontrolsarr=[]\n",
    "\n",
    "for value in best_controls:\n",
    "     finalcontrolsarr.append({\"duration\": duration / len(best_controls), \"value\": value*(1+1j)/np.sqrt(2)})\n",
    "\n",
    "\n",
    "print(finalcontrolsarr)\n",
    "\n",
    "def controlsfromparam(best):\n",
    "    controls = []\n",
    "    values = best_controls\n",
    "    controls.append({\"duration\": duration, \"values\": (1+1j)*values/np.sqrt(2)})\n",
    "    return(controls)\n",
    "\n",
    "end_test = qctrl.functions.calculate_qchack_measurements(\n",
    "    controls=controlsfromparam(best_controls),\n",
    "    shot_count=100,\n",
    ")\n",
    "\n",
    "finmeasurements = end_test.measurements\n",
    "\n",
    "print(finmeasurements)\n",
    "\n",
    "p0 = finmeasurements[0].count(0) / 100\n",
    "p1 = finmeasurements[0].count(1) / 100\n",
    "p2 = finmeasurements[0].count(2) / 100\n",
    "print(f\"P(|0>) = {p0:.2f}, P(|1>) = {p1:.2f}, P(|2>) = {p2:.2f}\")\n"
   ]
  },
  {
   "cell_type": "code",
   "execution_count": 6,
   "metadata": {},
   "outputs": [],
   "source": [
    "import jsonpickle.ext.numpy as jsonpickle_numpy\n",
    "import jsonpickle\n",
    "import numpy as np\n",
    "\n",
    "jsonpickle_numpy.register_handlers()\n",
    "values = best_controls\n",
    "#not_control = {\"duration\": duration, \"value\": (1+1j)*values/np.sqrt(2)}\n",
    "#json_not_control = jsonpickle.encode(not_control)\n",
    "#with open(\"not_gate_pulse.json\", \"w\") as file:\n",
    "#       file.write(json_not_control)\n",
    "\n",
    "    \n",
    "h_control = {\"duration\": duration, \"value\": (1+1j)*values/np.sqrt(2)}\n",
    "json_h_control = jsonpickle.encode(h_control)\n",
    "with open(\"h_gate_pulse.json\", \"w\") as file:\n",
    "       file.write(json_h_control)"
   ]
  },
  {
   "cell_type": "code",
   "execution_count": null,
   "metadata": {},
   "outputs": [],
   "source": []
  }
 ],
 "metadata": {
  "kernelspec": {
   "display_name": "Python 3",
   "language": "python",
   "name": "python3"
  },
  "language_info": {
   "codemirror_mode": {
    "name": "ipython",
    "version": 3
   },
   "file_extension": ".py",
   "mimetype": "text/x-python",
   "name": "python",
   "nbconvert_exporter": "python",
   "pygments_lexer": "ipython3",
   "version": "3.8.8"
  }
 },
 "nbformat": 4,
 "nbformat_minor": 4
}
